{
 "cells": [
  {
   "attachments": {},
   "cell_type": "markdown",
   "metadata": {},
   "source": [
    "## **Analysis of the statistics of the elevation difference drived by dems.**\n"
   ]
  },
  {
   "cell_type": "code",
   "execution_count": 198,
   "metadata": {},
   "outputs": [],
   "source": [
    "import os\n",
    "import pandas as pd\n",
    "import numpy as np\n",
    "import matplotlib.pyplot as plt\n",
    "from glob import glob\n",
    "from utils.geotif_io import readTiff, writeTiff\n",
    "from pprint import pprint\n",
    "import h5py\n",
    "from utils.crop2extent import img2extent\n",
    "\n"
   ]
  },
  {
   "attachments": {},
   "cell_type": "markdown",
   "metadata": {},
   "source": [
    "### **1. Read the statistic data.**"
   ]
  },
  {
   "cell_type": "code",
   "execution_count": 199,
   "metadata": {},
   "outputs": [],
   "source": [
    "paths_stat_dems = 'data/aster-stereo/stat_elev_dif.h5'   ## path to save\n",
    "years = [ str(year) for year in range(2003,2022)]   ## \n"
   ]
  },
  {
   "cell_type": "code",
   "execution_count": 200,
   "metadata": {},
   "outputs": [
    {
     "name": "stdout",
     "output_type": "stream",
     "text": [
      "2500_2600                Dataset {19}\n",
      "2600_2700                Dataset {19}\n",
      "2700_2800                Dataset {19}\n",
      "2800_2900                Dataset {19}\n",
      "2900_3000                Dataset {19}\n",
      "3000_3100                Dataset {19}\n",
      "3100_3200                Dataset {19}\n",
      "3200_3300                Dataset {19}\n",
      "3300_3400                Dataset {19}\n",
      "3400_3500                Dataset {19}\n",
      "3500_3600                Dataset {19}\n",
      "3600_3700                Dataset {19}\n",
      "3700_3800                Dataset {19}\n",
      "3800_3900                Dataset {19}\n",
      "3900_4000                Dataset {19}\n",
      "4000_4100                Dataset {19}\n",
      "4100_4200                Dataset {19}\n",
      "4200_4300                Dataset {19}\n",
      "4300_4400                Dataset {19}\n",
      "4400_4500                Dataset {19}\n",
      "4500_4600                Dataset {19}\n",
      "4600_4700                Dataset {19}\n",
      "4700_4800                Dataset {19}\n",
      "4800_4900                Dataset {19}\n",
      "4900_5000                Dataset {19}\n",
      "5000_5100                Dataset {19}\n",
      "5100_5200                Dataset {19}\n",
      "5200_5300                Dataset {19}\n",
      "5300_5400                Dataset {19}\n",
      "5400_5500                Dataset {19}\n",
      "5500_5600                Dataset {19}\n",
      "5600_5700                Dataset {19}\n",
      "5700_5800                Dataset {19}\n",
      "5800_5900                Dataset {19}\n",
      "5900_6000                Dataset {19}\n",
      "6000_6100                Dataset {19}\n",
      "6100_6200                Dataset {19}\n",
      "6200_6300                Dataset {19}\n",
      "6300_6400                Dataset {19}\n",
      "6400_6500                Dataset {19}\n",
      "6500_6600                Dataset {19}\n",
      "6600_6700                Dataset {19}\n",
      "6700_6800                Dataset {19}\n",
      "6800_6900                Dataset {19}\n",
      "6900_7000                Dataset {19}\n",
      "7000_7100                Dataset {19}\n",
      "7100_7200                Dataset {19}\n",
      "7200_7300                Dataset {19}\n",
      "7300_7400                Dataset {19}\n",
      "7400_7500                Dataset {19}\n"
     ]
    }
   ],
   "source": [
    "# !h5ls $paths_stat_dems\n",
    "!h5ls $paths_stat_dems/tile_29_96/mean_dif_bins\n"
   ]
  },
  {
   "attachments": {},
   "cell_type": "markdown",
   "metadata": {},
   "source": [
    "### 1. Read and visualize the glacier area/elevation change of bins in one tile.\n",
    "#### Take the tile_29_96 as example."
   ]
  },
  {
   "cell_type": "code",
   "execution_count": 201,
   "metadata": {},
   "outputs": [
    {
     "data": {
      "text/html": [
       "<div>\n",
       "<style scoped>\n",
       "    .dataframe tbody tr th:only-of-type {\n",
       "        vertical-align: middle;\n",
       "    }\n",
       "\n",
       "    .dataframe tbody tr th {\n",
       "        vertical-align: top;\n",
       "    }\n",
       "\n",
       "    .dataframe thead th {\n",
       "        text-align: right;\n",
       "    }\n",
       "</style>\n",
       "<table border=\"1\" class=\"dataframe\">\n",
       "  <thead>\n",
       "    <tr style=\"text-align: right;\">\n",
       "      <th></th>\n",
       "      <th>2500_2600</th>\n",
       "      <th>2600_2700</th>\n",
       "      <th>2700_2800</th>\n",
       "      <th>2800_2900</th>\n",
       "      <th>2900_3000</th>\n",
       "      <th>3000_3100</th>\n",
       "      <th>3100_3200</th>\n",
       "      <th>3200_3300</th>\n",
       "      <th>3300_3400</th>\n",
       "      <th>3400_3500</th>\n",
       "      <th>...</th>\n",
       "      <th>6500_6600</th>\n",
       "      <th>6600_6700</th>\n",
       "      <th>6700_6800</th>\n",
       "      <th>6800_6900</th>\n",
       "      <th>6900_7000</th>\n",
       "      <th>7000_7100</th>\n",
       "      <th>7100_7200</th>\n",
       "      <th>7200_7300</th>\n",
       "      <th>7300_7400</th>\n",
       "      <th>7400_7500</th>\n",
       "    </tr>\n",
       "  </thead>\n",
       "  <tbody>\n",
       "    <tr>\n",
       "      <th>2003</th>\n",
       "      <td>NaN</td>\n",
       "      <td>NaN</td>\n",
       "      <td>NaN</td>\n",
       "      <td>NaN</td>\n",
       "      <td>NaN</td>\n",
       "      <td>NaN</td>\n",
       "      <td>NaN</td>\n",
       "      <td>NaN</td>\n",
       "      <td>NaN</td>\n",
       "      <td>NaN</td>\n",
       "      <td>...</td>\n",
       "      <td>NaN</td>\n",
       "      <td>NaN</td>\n",
       "      <td>NaN</td>\n",
       "      <td>NaN</td>\n",
       "      <td>NaN</td>\n",
       "      <td>NaN</td>\n",
       "      <td>NaN</td>\n",
       "      <td>NaN</td>\n",
       "      <td>NaN</td>\n",
       "      <td>NaN</td>\n",
       "    </tr>\n",
       "    <tr>\n",
       "      <th>2004</th>\n",
       "      <td>NaN</td>\n",
       "      <td>NaN</td>\n",
       "      <td>NaN</td>\n",
       "      <td>NaN</td>\n",
       "      <td>NaN</td>\n",
       "      <td>NaN</td>\n",
       "      <td>NaN</td>\n",
       "      <td>NaN</td>\n",
       "      <td>NaN</td>\n",
       "      <td>NaN</td>\n",
       "      <td>...</td>\n",
       "      <td>NaN</td>\n",
       "      <td>NaN</td>\n",
       "      <td>NaN</td>\n",
       "      <td>NaN</td>\n",
       "      <td>NaN</td>\n",
       "      <td>NaN</td>\n",
       "      <td>NaN</td>\n",
       "      <td>NaN</td>\n",
       "      <td>NaN</td>\n",
       "      <td>NaN</td>\n",
       "    </tr>\n",
       "    <tr>\n",
       "      <th>2005</th>\n",
       "      <td>23.440870</td>\n",
       "      <td>17.441185</td>\n",
       "      <td>17.852478</td>\n",
       "      <td>18.197462</td>\n",
       "      <td>9.867458</td>\n",
       "      <td>3.493248</td>\n",
       "      <td>3.580258</td>\n",
       "      <td>-5.475726</td>\n",
       "      <td>-3.656221</td>\n",
       "      <td>-1.969308</td>\n",
       "      <td>...</td>\n",
       "      <td>-33.721539</td>\n",
       "      <td>-39.900948</td>\n",
       "      <td>-45.326725</td>\n",
       "      <td>NaN</td>\n",
       "      <td>NaN</td>\n",
       "      <td>NaN</td>\n",
       "      <td>NaN</td>\n",
       "      <td>NaN</td>\n",
       "      <td>NaN</td>\n",
       "      <td>NaN</td>\n",
       "    </tr>\n",
       "    <tr>\n",
       "      <th>2006</th>\n",
       "      <td>28.339010</td>\n",
       "      <td>24.783764</td>\n",
       "      <td>22.776550</td>\n",
       "      <td>25.732248</td>\n",
       "      <td>20.798716</td>\n",
       "      <td>11.946919</td>\n",
       "      <td>10.365777</td>\n",
       "      <td>-3.681964</td>\n",
       "      <td>-1.515717</td>\n",
       "      <td>-1.100738</td>\n",
       "      <td>...</td>\n",
       "      <td>-29.966681</td>\n",
       "      <td>-33.742008</td>\n",
       "      <td>-25.212578</td>\n",
       "      <td>NaN</td>\n",
       "      <td>NaN</td>\n",
       "      <td>NaN</td>\n",
       "      <td>NaN</td>\n",
       "      <td>NaN</td>\n",
       "      <td>NaN</td>\n",
       "      <td>NaN</td>\n",
       "    </tr>\n",
       "    <tr>\n",
       "      <th>2007</th>\n",
       "      <td>50.411583</td>\n",
       "      <td>46.433136</td>\n",
       "      <td>44.999889</td>\n",
       "      <td>42.565945</td>\n",
       "      <td>28.578156</td>\n",
       "      <td>21.253914</td>\n",
       "      <td>18.253843</td>\n",
       "      <td>4.740354</td>\n",
       "      <td>2.824063</td>\n",
       "      <td>0.869328</td>\n",
       "      <td>...</td>\n",
       "      <td>-29.135672</td>\n",
       "      <td>-38.750645</td>\n",
       "      <td>-36.937340</td>\n",
       "      <td>NaN</td>\n",
       "      <td>NaN</td>\n",
       "      <td>NaN</td>\n",
       "      <td>NaN</td>\n",
       "      <td>NaN</td>\n",
       "      <td>NaN</td>\n",
       "      <td>NaN</td>\n",
       "    </tr>\n",
       "  </tbody>\n",
       "</table>\n",
       "<p>5 rows × 50 columns</p>\n",
       "</div>"
      ],
      "text/plain": [
       "      2500_2600  2600_2700  2700_2800  2800_2900  2900_3000  3000_3100  \\\n",
       "2003        NaN        NaN        NaN        NaN        NaN        NaN   \n",
       "2004        NaN        NaN        NaN        NaN        NaN        NaN   \n",
       "2005  23.440870  17.441185  17.852478  18.197462   9.867458   3.493248   \n",
       "2006  28.339010  24.783764  22.776550  25.732248  20.798716  11.946919   \n",
       "2007  50.411583  46.433136  44.999889  42.565945  28.578156  21.253914   \n",
       "\n",
       "      3100_3200  3200_3300  3300_3400  3400_3500  ...  6500_6600  6600_6700  \\\n",
       "2003        NaN        NaN        NaN        NaN  ...        NaN        NaN   \n",
       "2004        NaN        NaN        NaN        NaN  ...        NaN        NaN   \n",
       "2005   3.580258  -5.475726  -3.656221  -1.969308  ... -33.721539 -39.900948   \n",
       "2006  10.365777  -3.681964  -1.515717  -1.100738  ... -29.966681 -33.742008   \n",
       "2007  18.253843   4.740354   2.824063   0.869328  ... -29.135672 -38.750645   \n",
       "\n",
       "      6700_6800  6800_6900  6900_7000  7000_7100  7100_7200  7200_7300  \\\n",
       "2003        NaN        NaN        NaN        NaN        NaN        NaN   \n",
       "2004        NaN        NaN        NaN        NaN        NaN        NaN   \n",
       "2005 -45.326725        NaN        NaN        NaN        NaN        NaN   \n",
       "2006 -25.212578        NaN        NaN        NaN        NaN        NaN   \n",
       "2007 -36.937340        NaN        NaN        NaN        NaN        NaN   \n",
       "\n",
       "      7300_7400  7400_7500  \n",
       "2003        NaN        NaN  \n",
       "2004        NaN        NaN  \n",
       "2005        NaN        NaN  \n",
       "2006        NaN        NaN  \n",
       "2007        NaN        NaN  \n",
       "\n",
       "[5 rows x 50 columns]"
      ]
     },
     "execution_count": 201,
     "metadata": {},
     "output_type": "execute_result"
    }
   ],
   "source": [
    "gla_area_bins_dict = {}\n",
    "mean_dif_bins_dict = {}\n",
    "with h5py.File(paths_stat_dems, \"r\") as f:\n",
    "  gla_area_bins = f['/tile_29_96/glacier_area_bins']\n",
    "  mean_dif_bins = f['/tile_29_96/mean_dif_bins']\n",
    "  bins_id = list(gla_area_bins.keys())\n",
    "  for bin_id in bins_id:\n",
    "    gla_area_bins_dict[bin_id] = gla_area_bins[bin_id][:]\n",
    "    mean_dif_bins_dict[bin_id] = mean_dif_bins[bin_id][:]\n",
    "gla_area_bins_pd = pd.DataFrame(gla_area_bins_dict)\n",
    "mean_dif_bins_pd = pd.DataFrame(mean_dif_bins_dict, index=years)\n",
    "gla_area_bins_pd.head()\n",
    "mean_dif_bins_pd.head()\n"
   ]
  },
  {
   "cell_type": "code",
   "execution_count": 202,
   "metadata": {},
   "outputs": [
    {
     "data": {
      "text/plain": [
       "Text(0.5, 1.0, 'selected tile')"
      ]
     },
     "execution_count": 202,
     "metadata": {},
     "output_type": "execute_result"
    },
    {
     "data": {
      "image/png": "[encoded data removed]",
      "text/plain": [
       "<Figure size 600x300 with 2 Axes>"
      ]
     },
     "metadata": {},
     "output_type": "display_data"
    }
   ],
   "source": [
    "fig = plt.figure(figsize=(6,3))\n",
    "ax1 = fig.add_subplot(111) # Create matplotlib axes\n",
    "ax1.set_ylabel('glacier area (km2)')\n",
    "ax1.bar(range(len(gla_area_bins_pd.iloc[0].keys())), gla_area_bins_pd.iloc[0].values)\n",
    "ax2 = ax1.twinx() # Create another axes that shares the same x-axis as ax.\n",
    "ax2.set_ylabel('elevation change (m)', color='red')\n",
    "ax2.plot(mean_dif_bins_pd.loc['2007'], 'r')\n",
    "plt.xticks([1, 25, 50], [2500, 5000, 7500])\n",
    "plt.xlabel('elevation (m)')\n",
    "plt.title('selected tile')\n"
   ]
  },
  {
   "attachments": {},
   "cell_type": "markdown",
   "metadata": {},
   "source": [
    "### 2. Read and visualize the glacier elevation change on the overall setp region.\n"
   ]
  },
  {
   "cell_type": "code",
   "execution_count": 203,
   "metadata": {},
   "outputs": [],
   "source": [
    "mean_dif_tiles, std_dif_tiles = {}, {}\n",
    "with h5py.File(paths_stat_dems, \"r\") as f:\n",
    "  for tile_id in list(f.keys()):\n",
    "    mean_dif_tile = f[tile_id + '/mean_dif_tile'][:]\n",
    "    std_dif_tile = f[tile_id + '/std_dif_tile'][:]\n",
    "    mean_dif_tiles[tile_id] = mean_dif_tile\n",
    "    std_dif_tiles[tile_id] = std_dif_tile\n",
    "mean_dif_tiles_pd = pd.DataFrame(mean_dif_tiles, index=years)\n",
    "std_dif_tiles_pd = pd.DataFrame(std_dif_tiles, index=years)\n",
    "mean_dif_tiles_pd.head()\n",
    "std_dif_tiles_pd.head()\n",
    "mean_dif_setp = mean_dif_tiles_pd.mean(axis=1)\n",
    "std_dif_setp = std_dif_tiles_pd.mean(axis=1)\n"
   ]
  },
  {
   "cell_type": "code",
   "execution_count": 204,
   "metadata": {},
   "outputs": [
    {
     "data": {
      "text/plain": [
       "Text(0.5, 1.0, 'selected tile/overall setp')"
      ]
     },
     "execution_count": 204,
     "metadata": {},
     "output_type": "execute_result"
    },
    {
     "data": {
      "image/png": "[encoded data removed]",
      "text/plain": [
       "<Figure size 1000x500 with 1 Axes>"
      ]
     },
     "metadata": {},
     "output_type": "display_data"
    }
   ],
   "source": [
    "plt.figure(figsize=(10,5))\n",
    "plt.plot(mean_dif_tiles_pd['tile_29_96'], 'g*')\n",
    "plt.plot(mean_dif_setp, 'r*')\n",
    "plt.errorbar(mean_dif_setp.index, mean_dif_setp.values, \\\n",
    "                        yerr=std_dif_setp.values/2, color='r', elinewidth=0.5,capsize=2)\n",
    "plt.ylabel('elevation change (m)'); plt.xlabel('time (year)')\n",
    "plt.title('selected tile/overall setp')\n"
   ]
  },
  {
   "cell_type": "code",
   "execution_count": null,
   "metadata": {},
   "outputs": [],
   "source": [
    "\n",
    "\n",
    "\n",
    "\n",
    "\n"
   ]
  }
 ],
 "metadata": {
  "kernelspec": {
   "display_name": "venv-glacier",
   "language": "python",
   "name": "python3"
  },
  "language_info": {
   "codemirror_mode": {
    "name": "ipython",
    "version": 3
   },
   "file_extension": ".py",
   "mimetype": "text/x-python",
   "name": "python",
   "nbconvert_exporter": "python",
   "pygments_lexer": "ipython3",
   "version": "3.9.15"
  },
  "orig_nbformat": 4,
  "vscode": {
   "interpreter": {
    "hash": "48264b1a77d5f70f00c0bcc7d0180bce559eabe6ce2cb53c566f748acf8dc728"
   }
  }
 },
 "nbformat": 4,
 "nbformat_minor": 2
}
