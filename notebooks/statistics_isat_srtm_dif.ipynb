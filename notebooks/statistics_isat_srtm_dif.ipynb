{
 "cells": [
  {
   "attachments": {},
   "cell_type": "markdown",
   "metadata": {},
   "source": [
    "### Statistic of the generated icesat-srtm difference data.\n"
   ]
  },
  {
   "cell_type": "code",
   "execution_count": 1,
   "metadata": {},
   "outputs": [],
   "source": [
    "import matplotlib.pyplot as plt\n",
    "import numpy as np\n",
    "import h5py\n"
   ]
  },
  {
   "cell_type": "code",
   "execution_count": 36,
   "metadata": {},
   "outputs": [],
   "source": [
    "### Tile number determination\n",
    "bottom, left = 30, 95\n",
    "year = '2020'\n",
    "data_type = 'GLAH14' if year in ['2006', '2007', '2008', '2009'] else 'ATL06'\n",
    "data_dir = data_type + '-' + year\n",
    "tile_dir = 'tile-'+str(bottom)+'-'+str(left)\n",
    "path_isat_srtm_dif = 'data/icesat/' + data_dir +'/' + tile_dir + '/isat_srtm_dif.h5'\n"
   ]
  },
  {
   "cell_type": "code",
   "execution_count": 37,
   "metadata": {},
   "outputs": [
    {
     "name": "stdout",
     "output_type": "stream",
     "text": [
      "h                        Dataset {181569}\n",
      "h_dif                    Dataset {181569}\n",
      "h_srtm                   Dataset {181569}\n",
      "lat                      Dataset {181569}\n",
      "lon                      Dataset {181569}\n",
      "t_dyr                    Dataset {181569}\n",
      "type_fp                  Dataset {181569}\n"
     ]
    }
   ],
   "source": [
    "!h5ls $path_isat_srtm_dif"
   ]
  },
  {
   "cell_type": "code",
   "execution_count": 38,
   "metadata": {},
   "outputs": [
    {
     "name": "stdout",
     "output_type": "stream",
     "text": [
      "(181569,)\n"
     ]
    }
   ],
   "source": [
    "keys=['lon', 'lat', 'h', 'h_srtm', 't_dyr', 'h_dif', 'type_fp']\n",
    "isat_srtm_dif = {}\n",
    "with h5py.File(path_isat_srtm_dif,'r') as f_dif:\n",
    "    for key in keys:\n",
    "        isat_srtm_dif[key] = f_dif[key][:]\n",
    "print(isat_srtm_dif['lon'].shape)\n"
   ]
  },
  {
   "attachments": {},
   "cell_type": "markdown",
   "metadata": {},
   "source": [
    "### Note: type_fp -> stable (0), water (1), forest(2), glacier (3)"
   ]
  },
  {
   "cell_type": "code",
   "execution_count": 44,
   "metadata": {},
   "outputs": [
    {
     "name": "stdout",
     "output_type": "stream",
     "text": [
      "mean: -16.900417\n",
      "standard deviation: 15.955718\n"
     ]
    }
   ],
   "source": [
    "###  Statistic of the glacier area\n",
    "h_dif = isat_srtm_dif['h_dif']\n",
    "h_glacier_dif = h_dif[isat_srtm_dif['type_fp']==3]\n",
    "h_glacier_dif[np.abs(h_glacier_dif)>150]=np.nan     ### Remove the outlier isat_srtm difference data.\n",
    "h_glacier_dif_mean = np.nanmean(h_glacier_dif)\n",
    "h_glacier_dif_sigma = np.nanstd(h_glacier_dif)\n",
    "h_glacier_dif[np.abs(h_glacier_dif - h_glacier_dif_mean) > 3*h_glacier_dif_sigma]=np.nan  ## Remove the outlier point.\n",
    "print('mean:', h_glacier_dif_mean)\n",
    "print('standard deviation:', h_glacier_dif_sigma)\n"
   ]
  },
  {
   "cell_type": "code",
   "execution_count": 45,
   "metadata": {},
   "outputs": [
    {
     "name": "stdout",
     "output_type": "stream",
     "text": [
      "mean: -2.5037386\n",
      "standard deviation: 9.780474\n"
     ]
    }
   ],
   "source": [
    "###  Statistic of the stable area\n",
    "h_dif = isat_srtm_dif['h_dif']\n",
    "h_stable_dif = h_dif[isat_srtm_dif['type_fp']==0]\n",
    "h_stable_dif[np.abs(h_stable_dif)>150]=np.nan     ### Remove the outlier isat_srtm difference data.\n",
    "h_stable_dif_mean = np.nanmean(h_stable_dif)\n",
    "h_stable_dif_sigma = np.nanstd(h_stable_dif)\n",
    "h_stable_dif[np.abs(h_stable_dif - h_stable_dif_mean) > 3*h_stable_dif_sigma]=np.nan  ## Remove the outlier point.\n",
    "print('mean:', h_stable_dif_mean)\n",
    "print('standard deviation:', h_stable_dif_sigma)\n"
   ]
  },
  {
   "cell_type": "code",
   "execution_count": null,
   "metadata": {},
   "outputs": [],
   "source": [
    "\n",
    "\n",
    "\n",
    "\n"
   ]
  }
 ],
 "metadata": {
  "kernelspec": {
   "display_name": "venv-glacier",
   "language": "python",
   "name": "python3"
  },
  "language_info": {
   "codemirror_mode": {
    "name": "ipython",
    "version": 3
   },
   "file_extension": ".py",
   "mimetype": "text/x-python",
   "name": "python",
   "nbconvert_exporter": "python",
   "pygments_lexer": "ipython3",
   "version": "3.9.15 | packaged by conda-forge | (main, Nov 22 2022, 15:55:03) \n[GCC 10.4.0]"
  },
  "orig_nbformat": 4,
  "vscode": {
   "interpreter": {
    "hash": "48264b1a77d5f70f00c0bcc7d0180bce559eabe6ce2cb53c566f748acf8dc728"
   }
  }
 },
 "nbformat": 4,
 "nbformat_minor": 2
}
