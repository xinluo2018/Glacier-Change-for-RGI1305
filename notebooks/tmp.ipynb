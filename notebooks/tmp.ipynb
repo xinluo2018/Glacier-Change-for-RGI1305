{
 "cells": [
  {
   "attachments": {},
   "cell_type": "markdown",
   "metadata": {},
   "source": [
    "### Note: check SETP-2019/aster-dem/VNIR_2019.19764706; SETP-2019/aster-dem/VNIR_2019.78629604\n",
    "###             SETP-2019/aster-dem/VNIR_2019.88481241\n"
   ]
  },
  {
   "cell_type": "code",
   "execution_count": 3,
   "metadata": {},
   "outputs": [],
   "source": [
    "import matplotlib.pyplot as plt\n",
    "import numpy as np\n",
    "import h5py\n",
    "import os\n"
   ]
  },
  {
   "cell_type": "code",
   "execution_count": 33,
   "metadata": {},
   "outputs": [
    {
     "name": "stdout",
     "output_type": "stream",
     "text": [
      "static_dif.h5  tile_28_96.h5  tile_29_94.h5  tile_30_92.h5  tile_31_91.h5\n",
      "tile_27_96.h5  tile_28_97.h5  tile_29_95.h5  tile_30_93.h5  tile_31_92.h5\n",
      "tile_27_97.h5  tile_28_98.h5  tile_29_96.h5  tile_30_94.h5  tile_31_93.h5\n",
      "tile_27_98.h5  tile_29_91.h5  tile_29_97.h5  tile_30_95.h5  tile_31_94.h5\n",
      "tile_28_94.h5  tile_29_92.h5  tile_29_98.h5  tile_30_96.h5  tile_31_95.h5\n",
      "tile_28_95.h5  tile_29_93.h5  tile_30_91.h5  tile_30_97.h5\n"
     ]
    }
   ],
   "source": [
    "!ls data/icesat-1/GLAH14-2008/tiles\n",
    "# !rm data/icesat-1/GLAH14-2008/tiles/*_srtm_dif.h5\n",
    "\n"
   ]
  }
 ],
 "metadata": {
  "kernelspec": {
   "display_name": "Python 3.8.13 ('venv-glacier')",
   "language": "python",
   "name": "python3"
  },
  "language_info": {
   "codemirror_mode": {
    "name": "ipython",
    "version": 3
   },
   "file_extension": ".py",
   "mimetype": "text/x-python",
   "name": "python",
   "nbconvert_exporter": "python",
   "pygments_lexer": "ipython3",
   "version": "3.9.15"
  },
  "orig_nbformat": 4,
  "vscode": {
   "interpreter": {
    "hash": "48264b1a77d5f70f00c0bcc7d0180bce559eabe6ce2cb53c566f748acf8dc728"
   }
  }
 },
 "nbformat": 4,
 "nbformat_minor": 2
}
