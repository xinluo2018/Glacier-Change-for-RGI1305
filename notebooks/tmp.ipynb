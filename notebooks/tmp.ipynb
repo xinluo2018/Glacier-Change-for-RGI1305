{
 "cells": [
  {
   "cell_type": "code",
   "execution_count": 1,
   "metadata": {},
   "outputs": [],
   "source": [
    "import os\n",
    "os.chdir('..')\n",
    "from notebooks import config"
   ]
  },
  {
   "cell_type": "code",
   "execution_count": 2,
   "metadata": {},
   "outputs": [
    {
     "name": "stdout",
     "output_type": "stream",
     "text": [
      "Creating output file that is 6476P x 4091L.\n",
      "Processing /Users/luo/OneDrive/GitHub/Glacier-in-RGI1305/data/water_jrc/wkl_water_jrc.tif [1/1] : 0...10...20...30...40...50...60...70...80...90...100 - done.\n"
     ]
    }
   ],
   "source": [
    "path_wat = config.root_proj + '/data/water_jrc/wkl_water_jrc.tif'\n",
    "path_wat_out = config.root_proj + '/data/water_jrc/wkl_water_jrc_utm.tif'\n",
    "!gdalwarp -t_srs '+proj=utm +zone=44 +datum=WGS84' -overwrite $path_wat $path_wat_out\n",
    "\n"
   ]
  }
 ],
 "metadata": {
  "interpreter": {
   "hash": "0c8129632e32e425cc033d1410b1507b5d568cf20bf2063eae0e316e8a209954"
  },
  "kernelspec": {
   "display_name": "Python 3.6.13 64-bit ('venv': conda)",
   "language": "python",
   "name": "python3"
  },
  "language_info": {
   "codemirror_mode": {
    "name": "ipython",
    "version": 3
   },
   "file_extension": ".py",
   "mimetype": "text/x-python",
   "name": "python",
   "nbconvert_exporter": "python",
   "pygments_lexer": "ipython3",
   "version": "3.6.13"
  },
  "orig_nbformat": 4
 },
 "nbformat": 4,
 "nbformat_minor": 2
}
