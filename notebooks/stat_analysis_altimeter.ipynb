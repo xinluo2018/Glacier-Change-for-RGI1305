{
 "cells": [
  {
   "attachments": {},
   "cell_type": "markdown",
   "metadata": {},
   "source": [
    "### Elevation trend analysis based on altimeter data.\n",
    "### Content:\n",
    "1. Icesat-1\n",
    "- 1.1 Area weighted elevation differece and uncertainty estimation.\n",
    "- 1.2 Write out the result.\n",
    "2. Elevation change on the glacier region.\n",
    "- 2.1 Result for overall setp region.\n",
    "- 2.2 Result by tiles.\n",
    "- 2.3 Result by bins\n",
    "- 2.4 Write out the result.\n"
   ]
  },
  {
   "cell_type": "code",
   "execution_count": 2,
   "metadata": {},
   "outputs": [],
   "source": [
    "import os \n",
    "import xarray as xr\n",
    "import numpy as np\n",
    "import matplotlib.pyplot as plt\n",
    "from utils.tiles_bins_weighting import stat_bins_weighting, stat_tiles_weighting\n",
    "from utils.tiles_bins_weighting import stat_bins_tiles_weighting, stat_tiles_bins_weighting\n",
    "from utils.ransac_fitting import ransac_fitting\n"
   ]
  },
  {
   "cell_type": "code",
   "execution_count": 3,
   "metadata": {},
   "outputs": [],
   "source": [
    "### Read in\n",
    "path_sta_isat1 = 'data/icesat-1/stat_dif_isat1.nc'\n",
    "path_sta_isat2 = 'data/icesat-2/stat_dif_isat2.nc'\n",
    "### Write out\n",
    "path_result_isat1 = 'data/icesat-1/result_isat1.nc'\n",
    "path_result_isat2 = 'data/icesat-2/result_isat2.nc'\n"
   ]
  },
  {
   "cell_type": "code",
   "execution_count": 4,
   "metadata": {},
   "outputs": [],
   "source": [
    "stat_isat1_xr = xr.open_dataset(path_sta_isat1)\n",
    "stat_isat2_xr = xr.open_dataset(path_sta_isat2)\n",
    "years_isat1, years_isat2 = stat_isat1_xr.years.values, stat_isat2_xr.years.values\n",
    "bins_id_isat1, bins_id_isat2 = stat_isat1_xr.bins_id.values, stat_isat2_xr.bins_id.values\n",
    "tiles_id = stat_isat2_xr.tiles_id.values\n"
   ]
  },
  {
   "attachments": {},
   "cell_type": "markdown",
   "metadata": {},
   "source": [
    "### 1. ICESAT-1 \n",
    "#### 1.1 Area weighted elevation differece and robust linear fitting by ransac algorithm.\n"
   ]
  },
  {
   "cell_type": "code",
   "execution_count": 5,
   "metadata": {},
   "outputs": [
    {
     "name": "stdout",
     "output_type": "stream",
     "text": [
      "Coefficient by icesat1: -0.6862257027625939\n"
     ]
    }
   ],
   "source": [
    "mean_binsWeighted_isat1, std_binsWeighted_isat1 = stat_bins_weighting(mean_bins=stat_isat1_xr['mean_glacier_bins'], \\\n",
    "                                    std_bins=stat_isat1_xr['std_glacier_bins'], glacier_area_bins=stat_isat1_xr['area_glacier_bins'])\n",
    "mean_setp_glacier_isat1_cor = mean_binsWeighted_isat1.values - stat_isat1_xr['mean_stable_bins'].values   ### elevation change correction.\n",
    "y_setp_glacier_isat1_filtered, y_setp_glacier_isat1_fitting, ransac_coef_setp_glacier_isat1 = ransac_fitting(x=np.arange(len(years_isat1)), y=mean_setp_glacier_isat1_cor, thre_mask=50)\n",
    "\n",
    "### standard deviation of elevation change.\n",
    "std_setp_glacier_isat1_cor = np.sqrt(np.square(std_binsWeighted_isat1.values) + np.square(stat_isat1_xr['std_stable_bins'].values)) \n",
    "print('Coefficient by icesat1:',ransac_coef_setp_glacier_isat1[0])\n"
   ]
  },
  {
   "attachments": {},
   "cell_type": "markdown",
   "metadata": {},
   "source": [
    "#### 1.2 Uncertainty estimation"
   ]
  },
  {
   "cell_type": "code",
   "execution_count": 6,
   "metadata": {},
   "outputs": [
    {
     "name": "stdout",
     "output_type": "stream",
     "text": [
      "sigma_dh: 3.07848684080312\n",
      "sigma_dh_dt of Icesat-1: 0.4397838344004457\n"
     ]
    }
   ],
   "source": [
    "#### 1. Time interval: 2000-2021\n",
    "epsilon = mean_setp_glacier_isat1_cor - y_setp_glacier_isat1_fitting\n",
    "sigma_dh = np.std(epsilon)\n",
    "sigma_dh_dt_isat1 = sigma_dh/len(years_isat1)\n",
    "print('sigma_dh:', sigma_dh)\n",
    "print('sigma_dh_dt of Icesat-1:', sigma_dh_dt_isat1)\n"
   ]
  },
  {
   "cell_type": "code",
   "execution_count": 7,
   "metadata": {},
   "outputs": [
    {
     "data": {
      "text/plain": [
       "<matplotlib.legend.Legend at 0x7fddd953a880>"
      ]
     },
     "execution_count": 7,
     "metadata": {},
     "output_type": "execute_result"
    },
    {
     "data": {
      "image/png": "[encoded data removed]",
      "text/plain": [
       "<Figure size 1000x400 with 1 Axes>"
      ]
     },
     "metadata": {},
     "output_type": "display_data"
    }
   ],
   "source": [
    "plt.figure(figsize=(10,4))\n",
    "# plt.plot(years, stat_isat1_xr['mean_stable_bins'].values, '.-g', label='mean_dif on stable region')\n",
    "# plt.plot(years, mean_binsWeighted_isat1, '.--b', label='mean_dif on glacier region')\n",
    "plt.plot(years_isat1, mean_setp_glacier_isat1_cor, '.-r', label='corrected mean_dif on glacier region')\n",
    "# plt.plot(years, y_fitting_setp_glacier_isat1, '.-r', label='corrected mean_dif fitting on glacier region')\n",
    "plt.legend()\n",
    "\n"
   ]
  },
  {
   "attachments": {},
   "cell_type": "markdown",
   "metadata": {},
   "source": [
    "#### 1.3 Write out the result."
   ]
  },
  {
   "cell_type": "code",
   "execution_count": 8,
   "metadata": {},
   "outputs": [],
   "source": [
    "if os.path.exists(path_result_isat1): os.remove(path_result_isat1)\n",
    "result_isat1_xr =xr.Dataset(\n",
    "        {\n",
    "        'area_glacier_bins': ([\"bins_id\"], stat_isat1_xr['area_glacier_bins'].values),\n",
    "        'ele_change_setp_cor': ([\"years\"], mean_setp_glacier_isat1_cor),\n",
    "        'ele_change_setp_cor_std': ([\"years\"], std_setp_glacier_isat1_cor),\n",
    "        'ele_change_setp_cor_fitting': ([\"years\"], y_setp_glacier_isat1_fitting),\n",
    "        'ele_rate_setp': ransac_coef_setp_glacier_isat1[0],\n",
    "        'ele_rate_setp_error': sigma_dh_dt_isat1,\n",
    "        },\n",
    "        coords={'years': years_isat1,\n",
    "                'bins_id': bins_id_isat1})\n",
    "\n",
    "result_isat1_xr.to_netcdf(path_result_isat1)\n",
    "\n"
   ]
  },
  {
   "attachments": {},
   "cell_type": "markdown",
   "metadata": {},
   "source": [
    "### 2. ICESAT-2"
   ]
  },
  {
   "attachments": {},
   "cell_type": "markdown",
   "metadata": {},
   "source": [
    "#### 2.1 For the overall setp region."
   ]
  },
  {
   "cell_type": "code",
   "execution_count": 9,
   "metadata": {},
   "outputs": [],
   "source": [
    "mean_setp_stable_isat2, std_setp_stable_isat2 = stat_tiles_weighting(mean_tiles = stat_isat2_xr['mean_stable_tiles'], \\\n",
    "                                                                    std_tiles = stat_isat2_xr['std_stable_tiles'], \n",
    "                                                                    glacier_area_tiles = stat_isat2_xr['area_glacier_tiles'])\n",
    "### From bins weighting to tiles weighting.\n",
    "mean_tiles_glacier_isat2, std_tiles_glacier_isat2, mean_setp_glacier_isat2, std_setp_glacier_isat2 = \\\n",
    "                                                stat_bins_tiles_weighting(mean_tiles_bins=stat_isat2_xr['mean_glacier_tiles_bins'], \\\n",
    "                                                                    std_tiles_bins=stat_isat2_xr['std_glacier_tiles_bins'], \n",
    "                                                                    glacier_area_tiles_bins=stat_isat2_xr['area_glacier_tiles_bins'])\n",
    "#### elevation change correction\n",
    "mean_setp_glacier_isat2_cor = mean_setp_glacier_isat2.values - mean_setp_stable_isat2.values\n",
    "### standard deviation of the corercted elevation change.\n",
    "std_setp_glacier_isat2_cor = np.sqrt(np.square(std_setp_stable_isat2.values) + np.square(std_setp_glacier_isat2.values)) \n",
    "\n"
   ]
  },
  {
   "cell_type": "code",
   "execution_count": 12,
   "metadata": {},
   "outputs": [
    {
     "data": {
      "text/plain": [
       "<matplotlib.legend.Legend at 0x7fddd0bd7160>"
      ]
     },
     "execution_count": 12,
     "metadata": {},
     "output_type": "execute_result"
    },
    {
     "data": {
      "image/png": "[encoded data removed]",
      "text/plain": [
       "<Figure size 1500x500 with 1 Axes>"
      ]
     },
     "metadata": {},
     "output_type": "display_data"
    }
   ],
   "source": [
    "plt.figure(figsize=(15,5))\n",
    "plt.plot(years_isat2, mean_setp_stable_isat2, '.-b', label='elevation change on the stable region')\n",
    "plt.plot(years_isat2, mean_setp_glacier_isat2, '.--g', label='elevation change on the glacier region')   ### \n",
    "plt.plot(years_isat2, mean_setp_glacier_isat2_cor, '.-r', label='Corrected elevation change on the glacier region')   ### \n",
    "plt.ylim(top=0, bottom=-16)\n",
    "plt.legend()\n",
    "\n"
   ]
  },
  {
   "attachments": {},
   "cell_type": "markdown",
   "metadata": {},
   "source": [
    "##### Robust linear fitting by ransac algorithm."
   ]
  },
  {
   "cell_type": "code",
   "execution_count": 83,
   "metadata": {},
   "outputs": [
    {
     "name": "stdout",
     "output_type": "stream",
     "text": [
      "coeffient by Icesat-2: -0.5216873637877977\n"
     ]
    }
   ],
   "source": [
    "mean_filtered_setp_glacier_cor_isat2, mean_fitting_setp_glacier_cor_isat2, ransac_coef_setp_glacier_cor_isat2 \\\n",
    "                                        = ransac_fitting(x=np.arange(len(years_isat2)), y=mean_setp_glacier_isat2_cor, thre_mask=50)\n",
    "print('coeffient by Icesat-2:', ransac_coef_setp_glacier_cor_isat2[0])\n",
    "\n"
   ]
  },
  {
   "attachments": {},
   "cell_type": "markdown",
   "metadata": {},
   "source": [
    "#### Uncertainty estimation\n"
   ]
  },
  {
   "cell_type": "code",
   "execution_count": 84,
   "metadata": {},
   "outputs": [
    {
     "name": "stdout",
     "output_type": "stream",
     "text": [
      "sigma_dh_dt of Icesat-2: 0.11843029858462643\n"
     ]
    }
   ],
   "source": [
    "epsilon = mean_setp_glacier_isat2_cor - mean_fitting_setp_glacier_cor_isat2\n",
    "sigma_dh = np.std(epsilon)\n",
    "sigma_dh_dt_isat2 = sigma_dh/len(years_isat2)\n",
    "# print('sigma_dh:', sigma_dh)\n",
    "print('sigma_dh_dt of Icesat-2:', sigma_dh_dt_isat2)\n"
   ]
  },
  {
   "attachments": {},
   "cell_type": "markdown",
   "metadata": {},
   "source": [
    "#### 2.2 Result by tiles."
   ]
  },
  {
   "cell_type": "code",
   "execution_count": 85,
   "metadata": {},
   "outputs": [
    {
     "data": {
      "text/plain": [
       "(28, 5)"
      ]
     },
     "execution_count": 85,
     "metadata": {},
     "output_type": "execute_result"
    }
   ],
   "source": [
    "ele_rate_tiles_isat2, ele_rate_tiles_error_isat2, mean_tile_glacier_isat2_cor = [], [], []\n",
    "for tile_id in tiles_id:\n",
    "  # tile_id =  'tile_27_98'\n",
    "  mean_tile_glacier = mean_tiles_glacier_isat2.sel(tiles_id=tile_id).values\n",
    "  mean_tile_stable = stat_isat2_xr['mean_stable_tiles'].sel(tiles_id = tile_id).values\n",
    "  mean_tile_glacier_cor = mean_tile_glacier - mean_tile_stable    ### elevation change correction\n",
    "  mean_tile_glacier_isat2_cor.append(mean_tile_glacier_cor)\n",
    "  ids_valid = np.where(~np.isnan(mean_tile_glacier_cor))[0]\n",
    "  if ids_valid.shape[0]>2:\n",
    "    mean_tile_glacier_cor_filtered, mean_tile_glacier_cor_fitting, ransac_coef_tile_glacier_cor = \\\n",
    "                                                ransac_fitting(x=np.arange(len(years_isat2)), y=mean_tile_glacier_cor, thre_mask=50)\n",
    "    ele_rate_tiles_isat2.append(ransac_coef_tile_glacier_cor[0])\n",
    "    ## Uncertainty.\n",
    "    epsilon = mean_tile_glacier_cor - mean_tile_glacier_cor_fitting\n",
    "    sigma_dh = np.nanstd(epsilon)\n",
    "    sigma_dh_dt = sigma_dh/len(years_isat2)\n",
    "    ele_rate_tiles_error_isat2.append(sigma_dh_dt)\n",
    "  else: \n",
    "    ele_rate_tiles_isat2.append(np.nan)\n",
    "    ele_rate_tiles_error_isat2.append(np.nan)\n",
    "\n",
    "mean_tile_glacier_isat2_cor = np.stack(mean_tile_glacier_isat2_cor, axis=0) \n",
    "mean_tile_glacier_isat2_cor.shape\n",
    "  # break\n",
    "\n"
   ]
  },
  {
   "attachments": {},
   "cell_type": "markdown",
   "metadata": {},
   "source": [
    "##### 2.3 Result by bins ( ! no correction)"
   ]
  },
  {
   "cell_type": "code",
   "execution_count": 66,
   "metadata": {},
   "outputs": [],
   "source": [
    "### From bins weighting to tiles weighting.\n",
    "mean_bins_glacier_isat2, std_bins_glacier_isat2, mean_setp_glacier_isat2, std_setp_glacier_isat2 = \\\n",
    "                                                stat_tiles_bins_weighting(mean_tiles_bins=stat_isat2_xr['mean_glacier_tiles_bins'], \\\n",
    "                                                                    std_tiles_bins=stat_isat2_xr['std_glacier_tiles_bins'], \n",
    "                                                                    glacier_area_tiles_bins=stat_isat2_xr['area_glacier_tiles_bins'])\n",
    "ele_rate_bins_isat2, ele_rate_bins_error_isat2, ele_change_bins = [], [], []\n",
    "\n",
    "for bin_id in bins_id_isat2:\n",
    "    ele_change_bin = mean_bins_glacier_isat2.sel(bins_id = bin_id).values\n",
    "    ele_change_bin = np.where(ele_change_bin == 0, np.nan, ele_change_bin)\n",
    "    ids_valid = np.where(~np.isnan(ele_change_bin))[0]\n",
    "    if ids_valid.shape[0]>2:\n",
    "        y_filtered_bin_glacier, y_fitting_bin_glacier, ransac_coef_bin_glacier = ransac_fitting(x=np.arange(len(years_isat2)), y=ele_change_bin, thre_mask=50)\n",
    "        ele_rate_bins_isat2.append(ransac_coef_bin_glacier[0])\n",
    "        ele_change_bins.append(ele_change_bin)\n",
    "        ## Uncertainty.\n",
    "        epsilon =  ele_change_bin - y_fitting_bin_glacier\n",
    "        sigma_dh = np.nanstd(epsilon)\n",
    "        sigma_dh_dt = sigma_dh/len(years_isat2)\n",
    "        ele_rate_bins_error_isat2.append(sigma_dh_dt)\n",
    "    else:\n",
    "        ele_rate_bins_isat2.append(np.nan)\n",
    "        ele_change_bins.append(np.nan)\n",
    "        ele_rate_bins_error_isat2.append(np.nan)\n",
    "area_glacier_bins = stat_isat2_xr['area_glacier_tiles_bins'].sum(dim='tiles_id').values\n"
   ]
  },
  {
   "cell_type": "code",
   "execution_count": 86,
   "metadata": {},
   "outputs": [],
   "source": [
    "### 3) write out statistic of stable region to the xarray .nc file.\n",
    "tiles_lat, tiles_lon = [], []\n",
    "for tile_id in tiles_id:\n",
    "    tiles_lat.append(int(tile_id[5:7]))\n",
    "    tiles_lon.append(int(tile_id[8:]))\n",
    "    \n",
    "if os.path.exists(path_result_isat2): os.remove(path_result_isat2)\n",
    "### Conver to xarray data.\n",
    "result_isat2_xr =xr.Dataset(\n",
    "        {\n",
    "        'tiles_lat': ([\"tiles_id\"], tiles_lat),\n",
    "        'tiles_lon': ([\"tiles_id\"], tiles_lon),\n",
    "        \"area_glacier_tiles\": ([\"tiles_id\"], stat_isat2_xr['area_glacier_tiles'].values),\n",
    "        \"area_glacier_bins\": ([\"bins_id\"], area_glacier_bins),\n",
    "        \"ele_change_setp_cor\": ([\"years\"], mean_setp_glacier_isat2_cor),\n",
    "        \"ele_change_setp_cor_fitting\": ([\"years\"], mean_fitting_setp_glacier_cor_isat2),\n",
    "        \"ele_change_setp_cor_std\": ([\"years\"], std_setp_glacier_isat2_cor),\n",
    "        'ele_rate_setp': ransac_coef_setp_glacier_cor_isat2[0],\n",
    "        'ele_rate_setp_error': sigma_dh_dt_isat2, \n",
    "        'ele_rate_tiles': ([\"tiles_id\"], ele_rate_tiles_isat2),\n",
    "        'ele_rate_tiles_error': ([\"tiles_id\"], ele_rate_tiles_error_isat2),\n",
    "        'ele_rate_bins': ([\"bins_id\"], ele_rate_bins_isat2),\n",
    "        'ele_rate_bins_error': ([\"bins_id\"], ele_rate_bins_error_isat2), \n",
    "        },\n",
    "        coords={'tiles_id': tiles_id,\n",
    "                'bins_id': bins_id_isat2,\n",
    "                'years': years_isat2})\n",
    "# result_isat2_xr.to_netcdf(path_result_isat2)\n"
   ]
  },
  {
   "cell_type": "code",
   "execution_count": null,
   "metadata": {},
   "outputs": [],
   "source": [
    "\n",
    "\n",
    "\n",
    "\n",
    "\n"
   ]
  }
 ],
 "metadata": {
  "kernelspec": {
   "display_name": "venv-glacier",
   "language": "python",
   "name": "python3"
  },
  "language_info": {
   "codemirror_mode": {
    "name": "ipython",
    "version": 3
   },
   "file_extension": ".py",
   "mimetype": "text/x-python",
   "name": "python",
   "nbconvert_exporter": "python",
   "pygments_lexer": "ipython3",
   "version": "3.9.15"
  },
  "orig_nbformat": 4
 },
 "nbformat": 4,
 "nbformat_minor": 2
}
