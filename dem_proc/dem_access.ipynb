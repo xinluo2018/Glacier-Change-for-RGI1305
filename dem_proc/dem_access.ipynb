{
 "cells": [
  {
   "cell_type": "code",
   "execution_count": 1,
   "metadata": {},
   "outputs": [],
   "source": [
    "import os\n",
    "os.chdir('..')\n",
    "import requests\n",
    "import config\n",
    "import matplotlib.pyplot as plt\n",
    "import glob\n",
    "import re\n",
    "import zipfile\n",
    "from utils.geotif_io import readTiff\n"
   ]
  },
  {
   "cell_type": "code",
   "execution_count": 2,
   "metadata": {},
   "outputs": [],
   "source": [
    "## configuration\n",
    "region_bounds = (80.118, 34.907, 81.941, 35.852)     # rgi13_05\n"
   ]
  },
  {
   "cell_type": "markdown",
   "metadata": {},
   "source": [
    "## **Download SRTM DEM**"
   ]
  },
  {
   "cell_type": "code",
   "execution_count": 16,
   "metadata": {},
   "outputs": [],
   "source": [
    "# demtype = \"SRTMGL1\"\n",
    "# url=\"https://portal.opentopography.org/API/globaldem?demtype={}&west={}&south={}&east={}&north={}&outputFormat=GTiff\".format(demtype, *region_bounds)\n",
    "# path_dem = config.root_proj + '/data/dem/' + '{}_wkunlun.tif'.format(demtype)\n",
    "\n"
   ]
  },
  {
   "cell_type": "code",
   "execution_count": 17,
   "metadata": {},
   "outputs": [
    {
     "name": "stdout",
     "output_type": "stream",
     "text": [
      "0...10...20...30...40...50...60...70...80...90...100 - done.\n"
     ]
    }
   ],
   "source": [
    "# ##  ----- download -----  ##\n",
    "# response = requests.get(url)\n",
    "# if not os.path.exists(path_dem):\n",
    "#     open(path_dem, 'wb').write(response.content)\n"
   ]
  },
  {
   "cell_type": "markdown",
   "metadata": {},
   "source": [
    "## **Download TanDEM-X 90**"
   ]
  },
  {
   "cell_type": "code",
   "execution_count": 3,
   "metadata": {},
   "outputs": [
    {
     "name": "stdout",
     "output_type": "stream",
     "text": [
      "TanDEM90_StudyArea.tif\n",
      "TanDEM90_StudyArea_shade.tif\n",
      "TanDem90_StudyArea_resize_resam.tif\n",
      "TanDem90_StudyArea_resize_resam_egm2008.tif\n"
     ]
    }
   ],
   "source": [
    "os.chdir('data/dem/tandem-x')\n",
    "!ls"
   ]
  },
  {
   "cell_type": "code",
   "execution_count": 4,
   "metadata": {},
   "outputs": [
    {
     "name": "stdout",
     "output_type": "stream",
     "text": [
      "zsh:1: no such file or directory: TDM90-url-list.txt\n",
      "curl: no URL specified!\n",
      "curl: try 'curl --help' or 'curl --manual' for more information\n"
     ]
    }
   ],
   "source": [
    "### the tdm90-url-list.txt shoulde be downlowd \\\n",
    "### from https://download.geoservice.dlr.de/TDM90/#download firstly.\n",
    "# !curl $(printf ' -O %s' $(<TDM90-url-list.txt)) -u 'xinluo_xin@163.com:XmRLpX5y5fB3A_j'\n"
   ]
  },
  {
   "cell_type": "code",
   "execution_count": 21,
   "metadata": {},
   "outputs": [],
   "source": [
    "# ### unziping\n",
    "# src_paths = glob.glob('*.zip')\n",
    "# target_path = 'unzip'\n",
    "# if not os.path.exists(target_path):\n",
    "#     os.makedirs(target_path)\n",
    "# for src_path in src_paths:\n",
    "#     z = zipfile.ZipFile(src_path, 'r')\n",
    "#     z.extractall(path=target_path)\n",
    "#     z.close()\n",
    "\n"
   ]
  },
  {
   "cell_type": "code",
   "execution_count": 23,
   "metadata": {},
   "outputs": [],
   "source": [
    "# ## move the _DEM.tif to specific directory\n",
    "# dem_paths = []\n",
    "# dem_dir = 'dem_tif'\n",
    "# for root, dirs, files in os.walk('unzip'):\n",
    "#     if re.search('_DEM.tif', files[0]):\n",
    "#         dem_path = root + '/' + files[0]\n",
    "#         dem_paths.append(dem_path)\n",
    "\n",
    "# if not os.path.exists(dem_dir):\n",
    "#     os.makedirs(dem_dir)\n",
    "\n",
    "# for path in dem_paths:\n",
    "#     !mv $path $dem_dir\n",
    "\n"
   ]
  }
 ],
 "metadata": {
  "interpreter": {
   "hash": "0c8129632e32e425cc033d1410b1507b5d568cf20bf2063eae0e316e8a209954"
  },
  "kernelspec": {
   "display_name": "Python 3.6.13 64-bit ('venv': conda)",
   "name": "python3"
  },
  "language_info": {
   "codemirror_mode": {
    "name": "ipython",
    "version": 3
   },
   "file_extension": ".py",
   "mimetype": "text/x-python",
   "name": "python",
   "nbconvert_exporter": "python",
   "pygments_lexer": "ipython3",
   "version": "3.6.13"
  },
  "orig_nbformat": 4
 },
 "nbformat": 4,
 "nbformat_minor": 2
}
