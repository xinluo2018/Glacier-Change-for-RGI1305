{
 "cells": [
  {
   "cell_type": "code",
   "execution_count": 1,
   "metadata": {},
   "outputs": [],
   "source": [
    "import matplotlib.pyplot as plt\n",
    "import h5py\n"
   ]
  },
  {
   "cell_type": "code",
   "execution_count": 2,
   "metadata": {},
   "outputs": [],
   "source": [
    "path_glah14 = 'data/icesat/glah14-download/tile-36-78/2009/GLAH14_634_2129_001_1275_0_01_0001.H5'"
   ]
  },
  {
   "cell_type": "code",
   "execution_count": 14,
   "metadata": {},
   "outputs": [],
   "source": [
    "with h5py.File(path_glah14, 'r') as f_gla14:\n",
    "    h_ellip = f_gla14['Data_40HZ/Geophysical/d_deltaEllip'][:]\n",
    "    h_load = f_gla14['Data_40HZ/Geophysical/d_ldElv'][:]  # load tide [m]  \n",
    "    h_sat = f_gla14['Data_40HZ/Elevation_Corrections/d_satElevCorr'][:]\n",
    "\n"
   ]
  }
 ],
 "metadata": {
  "interpreter": {
   "hash": "b9d1bc8420fb36ae897ecd2621fd92de8132db6fd0b3a5e27f6655b067ae11f3"
  },
  "kernelspec": {
   "display_name": "Python 3.8.13 ('venv-glacier')",
   "language": "python",
   "name": "python3"
  },
  "language_info": {
   "codemirror_mode": {
    "name": "ipython",
    "version": 3
   },
   "file_extension": ".py",
   "mimetype": "text/x-python",
   "name": "python",
   "nbconvert_exporter": "python",
   "pygments_lexer": "ipython3",
   "version": "3.8.13"
  },
  "orig_nbformat": 4
 },
 "nbformat": 4,
 "nbformat_minor": 2
}
